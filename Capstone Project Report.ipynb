{
    "cells": [
        {
            "cell_type": "markdown",
            "metadata": {
                "collapsed": true
            },
            "source": "# Introduction/Business Problem\n\nIn order to determine the optimum pub crawl for my city, Houston, TX. This will look at \"best bang for your buck\" while plotting a route that is easily walkable in one evening."
        },
        {
            "cell_type": "markdown",
            "metadata": {},
            "source": "# Data\n\nThe location should be route will be determined based on the proximity of bars to one another and price vs. ratings. The data will be taken from Foursquare, clustered and mapped for optimum comparison."
        },
        {
            "cell_type": "code",
            "execution_count": null,
            "metadata": {},
            "outputs": [],
            "source": ""
        }
    ],
    "metadata": {
        "kernelspec": {
            "display_name": "Python 3.6",
            "language": "python",
            "name": "python3"
        },
        "language_info": {
            "codemirror_mode": {
                "name": "ipython",
                "version": 3
            },
            "file_extension": ".py",
            "mimetype": "text/x-python",
            "name": "python",
            "nbconvert_exporter": "python",
            "pygments_lexer": "ipython3",
            "version": "3.6.8"
        }
    },
    "nbformat": 4,
    "nbformat_minor": 1
}