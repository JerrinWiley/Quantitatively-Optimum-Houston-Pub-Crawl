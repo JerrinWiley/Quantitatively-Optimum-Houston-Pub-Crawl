{
    "cells": [
        {
            "metadata": {},
            "cell_type": "code",
            "source": "import requests # library to handle requests\nimport pandas as pd # library for data analsysis\nimport numpy as np # library to handle data in a vectorized manner\nimport random # library for random number generation\nimport requests\nimport lxml.html as lh\nfrom bs4 import BeautifulSoup\nfrom tabulate import tabulate\nfrom urllib.request import urlopen",
            "execution_count": 163,
            "outputs": []
        },
        {
            "metadata": {},
            "cell_type": "code",
            "source": "url = 'https://en.wikipedia.org/wiki/List_of_postal_codes_of_Canada:_M'\ndfs = pd.read_html(url)\ndf = dfs[0]",
            "execution_count": 164,
            "outputs": []
        },
        {
            "metadata": {},
            "cell_type": "markdown",
            "source": "Eliminating rows with Borough as \"Not assigned\""
        },
        {
            "metadata": {},
            "cell_type": "code",
            "source": "df = df[df.Borough != 'Not assigned']",
            "execution_count": 165,
            "outputs": []
        },
        {
            "metadata": {},
            "cell_type": "markdown",
            "source": "Replacing \"Not Assigned\" Neighbourhoods with Borough name"
        },
        {
            "metadata": {},
            "cell_type": "code",
            "source": "df.loc[(df.Neighbourhood == 'Not assigned'),'Neighbourhood']=df.Borough",
            "execution_count": 166,
            "outputs": [
                {
                    "output_type": "stream",
                    "text": "/opt/conda/envs/Python36/lib/python3.6/site-packages/ipykernel/__main__.py:1: SettingWithCopyWarning: \nA value is trying to be set on a copy of a slice from a DataFrame\n\nSee the caveats in the documentation: http://pandas.pydata.org/pandas-docs/stable/indexing.html#indexing-view-versus-copy\n  if __name__ == '__main__':\n",
                    "name": "stderr"
                }
            ]
        },
        {
            "metadata": {},
            "cell_type": "markdown",
            "source": "Combining Neighborhoods based on Postcode, reseting index, and joining the sublist of neighbourhoods with \", \""
        },
        {
            "metadata": {},
            "cell_type": "code",
            "source": "df = df.groupby(['Postcode','Borough'])['Neighbourhood'].apply(list)\ndf = df.sample(frac=1).reset_index()\ndf['Neighbourhood']=df['Neighbourhood'].str.join(', ')",
            "execution_count": 167,
            "outputs": []
        },
        {
            "metadata": {},
            "cell_type": "markdown",
            "source": "Displaying Dataframe"
        },
        {
            "metadata": {},
            "cell_type": "code",
            "source": "df",
            "execution_count": 168,
            "outputs": [
                {
                    "output_type": "execute_result",
                    "execution_count": 168,
                    "data": {
                        "text/plain": "    Postcode           Borough  \\\n0        M4R   Central Toronto   \n1        M2N        North York   \n2        M4L      East Toronto   \n3        M4E      East Toronto   \n4        M5E  Downtown Toronto   \n5        M6A        North York   \n6        M5R   Central Toronto   \n7        M5J  Downtown Toronto   \n8        M4S   Central Toronto   \n9        M1N       Scarborough   \n10       M4T   Central Toronto   \n11       M9W         Etobicoke   \n12       M7Y      East Toronto   \n13       M2H        North York   \n14       M3M        North York   \n15       M1S       Scarborough   \n16       M4X  Downtown Toronto   \n17       M1T       Scarborough   \n18       M6B        North York   \n19       M1G       Scarborough   \n20       M5V  Downtown Toronto   \n21       M9P         Etobicoke   \n22       M5N   Central Toronto   \n23       M7A      Queen's Park   \n24       M4V   Central Toronto   \n25       M4P   Central Toronto   \n26       M4H         East York   \n27       M6G  Downtown Toronto   \n28       M5C  Downtown Toronto   \n29       M2M        North York   \n..       ...               ...   \n73       M5P   Central Toronto   \n74       M4W  Downtown Toronto   \n75       M2P        North York   \n76       M5M        North York   \n77       M1C       Scarborough   \n78       M5G  Downtown Toronto   \n79       M2L        North York   \n80       M8V         Etobicoke   \n81       M6E              York   \n82       M3A        North York   \n83       M5S  Downtown Toronto   \n84       M6J      West Toronto   \n85       M8X         Etobicoke   \n86       M6K      West Toronto   \n87       M4A        North York   \n88       M8W         Etobicoke   \n89       M4C         East York   \n90       M3H        North York   \n91       M3L        North York   \n92       M8Y         Etobicoke   \n93       M5K  Downtown Toronto   \n94       M2J        North York   \n95       M9N              York   \n96       M1R       Scarborough   \n97       M5W  Downtown Toronto   \n98       M1B       Scarborough   \n99       M9B         Etobicoke   \n100      M5T  Downtown Toronto   \n101      M6C              York   \n102      M1W       Scarborough   \n\n                                         Neighbourhood  \n0                                   North Toronto West  \n1                                     Willowdale South  \n2                       The Beaches West, India Bazaar  \n3                                          The Beaches  \n4                                          Berczy Park  \n5                     Lawrence Heights, Lawrence Manor  \n6                  The Annex, North Midtown, Yorkville  \n7    Harbourfront East, Toronto Islands, Union Station  \n8                                           Davisville  \n9                          Birch Cliff, Cliffside West  \n10                         Moore Park, Summerhill East  \n11                                           Northwest  \n12   Business Reply Mail Processing Centre 969 Eastern  \n13                                   Hillcrest Village  \n14                                   Downsview Central  \n15                                           Agincourt  \n16                         Cabbagetown, St. James Town  \n17             Clarks Corners, Sullivan, Tam O'Shanter  \n18                                           Glencairn  \n19                                              Woburn  \n20   CN Tower, Bathurst Quay, Island airport, Harbo...  \n21                                           Westmount  \n22                                            Roselawn  \n23                                        Queen's Park  \n24   Deer Park, Forest Hill SE, Rathnelly, South Hi...  \n25                                    Davisville North  \n26                                    Thorncliffe Park  \n27                                            Christie  \n28                                      St. James Town  \n29                             Newtonbrook, Willowdale  \n..                                                 ...  \n73                 Forest Hill North, Forest Hill West  \n74                                            Rosedale  \n75                                     York Mills West  \n76                   Bedford Park, Lawrence Manor East  \n77              Highland Creek, Rouge Hill, Port Union  \n78                                  Central Bay Street  \n79                            Silver Hills, York Mills  \n80        Humber Bay Shores, Mimico South, New Toronto  \n81                                 Caledonia-Fairbanks  \n82                                           Parkwoods  \n83                      Harbord, University of Toronto  \n84                            Little Portugal, Trinity  \n85       The Kingsway, Montgomery Road, Old Mill North  \n86        Brockton, Exhibition Place, Parkdale Village  \n87                                    Victoria Village  \n88                              Alderwood, Long Branch  \n89                                    Woodbine Heights  \n90     Bathurst Manor, Downsview North, Wilson Heights  \n91                                      Downsview West  \n92   Humber Bay, King's Mill Park, Kingsway Park So...  \n93            Design Exchange, Toronto Dominion Centre  \n94                        Fairview, Henry Farm, Oriole  \n95                                              Weston  \n96                                   Maryvale, Wexford  \n97                     Stn A PO Boxes 25 The Esplanade  \n98                                      Rouge, Malvern  \n99   Cloverdale, Islington, Martin Grove, Princess ...  \n100          Chinatown, Grange Park, Kensington Market  \n101                                 Humewood-Cedarvale  \n102                                    L'Amoreaux West  \n\n[103 rows x 3 columns]",
                        "text/html": "<div>\n<style scoped>\n    .dataframe tbody tr th:only-of-type {\n        vertical-align: middle;\n    }\n\n    .dataframe tbody tr th {\n        vertical-align: top;\n    }\n\n    .dataframe thead th {\n        text-align: right;\n    }\n</style>\n<table border=\"1\" class=\"dataframe\">\n  <thead>\n    <tr style=\"text-align: right;\">\n      <th></th>\n      <th>Postcode</th>\n      <th>Borough</th>\n      <th>Neighbourhood</th>\n    </tr>\n  </thead>\n  <tbody>\n    <tr>\n      <th>0</th>\n      <td>M4R</td>\n      <td>Central Toronto</td>\n      <td>North Toronto West</td>\n    </tr>\n    <tr>\n      <th>1</th>\n      <td>M2N</td>\n      <td>North York</td>\n      <td>Willowdale South</td>\n    </tr>\n    <tr>\n      <th>2</th>\n      <td>M4L</td>\n      <td>East Toronto</td>\n      <td>The Beaches West, India Bazaar</td>\n    </tr>\n    <tr>\n      <th>3</th>\n      <td>M4E</td>\n      <td>East Toronto</td>\n      <td>The Beaches</td>\n    </tr>\n    <tr>\n      <th>4</th>\n      <td>M5E</td>\n      <td>Downtown Toronto</td>\n      <td>Berczy Park</td>\n    </tr>\n    <tr>\n      <th>5</th>\n      <td>M6A</td>\n      <td>North York</td>\n      <td>Lawrence Heights, Lawrence Manor</td>\n    </tr>\n    <tr>\n      <th>6</th>\n      <td>M5R</td>\n      <td>Central Toronto</td>\n      <td>The Annex, North Midtown, Yorkville</td>\n    </tr>\n    <tr>\n      <th>7</th>\n      <td>M5J</td>\n      <td>Downtown Toronto</td>\n      <td>Harbourfront East, Toronto Islands, Union Station</td>\n    </tr>\n    <tr>\n      <th>8</th>\n      <td>M4S</td>\n      <td>Central Toronto</td>\n      <td>Davisville</td>\n    </tr>\n    <tr>\n      <th>9</th>\n      <td>M1N</td>\n      <td>Scarborough</td>\n      <td>Birch Cliff, Cliffside West</td>\n    </tr>\n    <tr>\n      <th>10</th>\n      <td>M4T</td>\n      <td>Central Toronto</td>\n      <td>Moore Park, Summerhill East</td>\n    </tr>\n    <tr>\n      <th>11</th>\n      <td>M9W</td>\n      <td>Etobicoke</td>\n      <td>Northwest</td>\n    </tr>\n    <tr>\n      <th>12</th>\n      <td>M7Y</td>\n      <td>East Toronto</td>\n      <td>Business Reply Mail Processing Centre 969 Eastern</td>\n    </tr>\n    <tr>\n      <th>13</th>\n      <td>M2H</td>\n      <td>North York</td>\n      <td>Hillcrest Village</td>\n    </tr>\n    <tr>\n      <th>14</th>\n      <td>M3M</td>\n      <td>North York</td>\n      <td>Downsview Central</td>\n    </tr>\n    <tr>\n      <th>15</th>\n      <td>M1S</td>\n      <td>Scarborough</td>\n      <td>Agincourt</td>\n    </tr>\n    <tr>\n      <th>16</th>\n      <td>M4X</td>\n      <td>Downtown Toronto</td>\n      <td>Cabbagetown, St. James Town</td>\n    </tr>\n    <tr>\n      <th>17</th>\n      <td>M1T</td>\n      <td>Scarborough</td>\n      <td>Clarks Corners, Sullivan, Tam O'Shanter</td>\n    </tr>\n    <tr>\n      <th>18</th>\n      <td>M6B</td>\n      <td>North York</td>\n      <td>Glencairn</td>\n    </tr>\n    <tr>\n      <th>19</th>\n      <td>M1G</td>\n      <td>Scarborough</td>\n      <td>Woburn</td>\n    </tr>\n    <tr>\n      <th>20</th>\n      <td>M5V</td>\n      <td>Downtown Toronto</td>\n      <td>CN Tower, Bathurst Quay, Island airport, Harbo...</td>\n    </tr>\n    <tr>\n      <th>21</th>\n      <td>M9P</td>\n      <td>Etobicoke</td>\n      <td>Westmount</td>\n    </tr>\n    <tr>\n      <th>22</th>\n      <td>M5N</td>\n      <td>Central Toronto</td>\n      <td>Roselawn</td>\n    </tr>\n    <tr>\n      <th>23</th>\n      <td>M7A</td>\n      <td>Queen's Park</td>\n      <td>Queen's Park</td>\n    </tr>\n    <tr>\n      <th>24</th>\n      <td>M4V</td>\n      <td>Central Toronto</td>\n      <td>Deer Park, Forest Hill SE, Rathnelly, South Hi...</td>\n    </tr>\n    <tr>\n      <th>25</th>\n      <td>M4P</td>\n      <td>Central Toronto</td>\n      <td>Davisville North</td>\n    </tr>\n    <tr>\n      <th>26</th>\n      <td>M4H</td>\n      <td>East York</td>\n      <td>Thorncliffe Park</td>\n    </tr>\n    <tr>\n      <th>27</th>\n      <td>M6G</td>\n      <td>Downtown Toronto</td>\n      <td>Christie</td>\n    </tr>\n    <tr>\n      <th>28</th>\n      <td>M5C</td>\n      <td>Downtown Toronto</td>\n      <td>St. James Town</td>\n    </tr>\n    <tr>\n      <th>29</th>\n      <td>M2M</td>\n      <td>North York</td>\n      <td>Newtonbrook, Willowdale</td>\n    </tr>\n    <tr>\n      <th>...</th>\n      <td>...</td>\n      <td>...</td>\n      <td>...</td>\n    </tr>\n    <tr>\n      <th>73</th>\n      <td>M5P</td>\n      <td>Central Toronto</td>\n      <td>Forest Hill North, Forest Hill West</td>\n    </tr>\n    <tr>\n      <th>74</th>\n      <td>M4W</td>\n      <td>Downtown Toronto</td>\n      <td>Rosedale</td>\n    </tr>\n    <tr>\n      <th>75</th>\n      <td>M2P</td>\n      <td>North York</td>\n      <td>York Mills West</td>\n    </tr>\n    <tr>\n      <th>76</th>\n      <td>M5M</td>\n      <td>North York</td>\n      <td>Bedford Park, Lawrence Manor East</td>\n    </tr>\n    <tr>\n      <th>77</th>\n      <td>M1C</td>\n      <td>Scarborough</td>\n      <td>Highland Creek, Rouge Hill, Port Union</td>\n    </tr>\n    <tr>\n      <th>78</th>\n      <td>M5G</td>\n      <td>Downtown Toronto</td>\n      <td>Central Bay Street</td>\n    </tr>\n    <tr>\n      <th>79</th>\n      <td>M2L</td>\n      <td>North York</td>\n      <td>Silver Hills, York Mills</td>\n    </tr>\n    <tr>\n      <th>80</th>\n      <td>M8V</td>\n      <td>Etobicoke</td>\n      <td>Humber Bay Shores, Mimico South, New Toronto</td>\n    </tr>\n    <tr>\n      <th>81</th>\n      <td>M6E</td>\n      <td>York</td>\n      <td>Caledonia-Fairbanks</td>\n    </tr>\n    <tr>\n      <th>82</th>\n      <td>M3A</td>\n      <td>North York</td>\n      <td>Parkwoods</td>\n    </tr>\n    <tr>\n      <th>83</th>\n      <td>M5S</td>\n      <td>Downtown Toronto</td>\n      <td>Harbord, University of Toronto</td>\n    </tr>\n    <tr>\n      <th>84</th>\n      <td>M6J</td>\n      <td>West Toronto</td>\n      <td>Little Portugal, Trinity</td>\n    </tr>\n    <tr>\n      <th>85</th>\n      <td>M8X</td>\n      <td>Etobicoke</td>\n      <td>The Kingsway, Montgomery Road, Old Mill North</td>\n    </tr>\n    <tr>\n      <th>86</th>\n      <td>M6K</td>\n      <td>West Toronto</td>\n      <td>Brockton, Exhibition Place, Parkdale Village</td>\n    </tr>\n    <tr>\n      <th>87</th>\n      <td>M4A</td>\n      <td>North York</td>\n      <td>Victoria Village</td>\n    </tr>\n    <tr>\n      <th>88</th>\n      <td>M8W</td>\n      <td>Etobicoke</td>\n      <td>Alderwood, Long Branch</td>\n    </tr>\n    <tr>\n      <th>89</th>\n      <td>M4C</td>\n      <td>East York</td>\n      <td>Woodbine Heights</td>\n    </tr>\n    <tr>\n      <th>90</th>\n      <td>M3H</td>\n      <td>North York</td>\n      <td>Bathurst Manor, Downsview North, Wilson Heights</td>\n    </tr>\n    <tr>\n      <th>91</th>\n      <td>M3L</td>\n      <td>North York</td>\n      <td>Downsview West</td>\n    </tr>\n    <tr>\n      <th>92</th>\n      <td>M8Y</td>\n      <td>Etobicoke</td>\n      <td>Humber Bay, King's Mill Park, Kingsway Park So...</td>\n    </tr>\n    <tr>\n      <th>93</th>\n      <td>M5K</td>\n      <td>Downtown Toronto</td>\n      <td>Design Exchange, Toronto Dominion Centre</td>\n    </tr>\n    <tr>\n      <th>94</th>\n      <td>M2J</td>\n      <td>North York</td>\n      <td>Fairview, Henry Farm, Oriole</td>\n    </tr>\n    <tr>\n      <th>95</th>\n      <td>M9N</td>\n      <td>York</td>\n      <td>Weston</td>\n    </tr>\n    <tr>\n      <th>96</th>\n      <td>M1R</td>\n      <td>Scarborough</td>\n      <td>Maryvale, Wexford</td>\n    </tr>\n    <tr>\n      <th>97</th>\n      <td>M5W</td>\n      <td>Downtown Toronto</td>\n      <td>Stn A PO Boxes 25 The Esplanade</td>\n    </tr>\n    <tr>\n      <th>98</th>\n      <td>M1B</td>\n      <td>Scarborough</td>\n      <td>Rouge, Malvern</td>\n    </tr>\n    <tr>\n      <th>99</th>\n      <td>M9B</td>\n      <td>Etobicoke</td>\n      <td>Cloverdale, Islington, Martin Grove, Princess ...</td>\n    </tr>\n    <tr>\n      <th>100</th>\n      <td>M5T</td>\n      <td>Downtown Toronto</td>\n      <td>Chinatown, Grange Park, Kensington Market</td>\n    </tr>\n    <tr>\n      <th>101</th>\n      <td>M6C</td>\n      <td>York</td>\n      <td>Humewood-Cedarvale</td>\n    </tr>\n    <tr>\n      <th>102</th>\n      <td>M1W</td>\n      <td>Scarborough</td>\n      <td>L'Amoreaux West</td>\n    </tr>\n  </tbody>\n</table>\n<p>103 rows \u00d7 3 columns</p>\n</div>"
                    },
                    "metadata": {}
                }
            ]
        },
        {
            "metadata": {},
            "cell_type": "markdown",
            "source": "Displaying Dataframe shape"
        },
        {
            "metadata": {},
            "cell_type": "code",
            "source": "df.shape",
            "execution_count": 169,
            "outputs": [
                {
                    "output_type": "execute_result",
                    "execution_count": 169,
                    "data": {
                        "text/plain": "(103, 3)"
                    },
                    "metadata": {}
                }
            ]
        },
        {
            "metadata": {},
            "cell_type": "code",
            "source": "",
            "execution_count": null,
            "outputs": []
        }
    ],
    "metadata": {
        "kernelspec": {
            "name": "python3",
            "display_name": "Python 3.6",
            "language": "python"
        },
        "language_info": {
            "name": "python",
            "version": "3.6.8",
            "mimetype": "text/x-python",
            "codemirror_mode": {
                "name": "ipython",
                "version": 3
            },
            "pygments_lexer": "ipython3",
            "nbconvert_exporter": "python",
            "file_extension": ".py"
        }
    },
    "nbformat": 4,
    "nbformat_minor": 1
}